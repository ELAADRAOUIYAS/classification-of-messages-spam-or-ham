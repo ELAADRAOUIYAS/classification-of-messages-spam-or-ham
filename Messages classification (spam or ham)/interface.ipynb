{
 "cells": [
  {
   "cell_type": "code",
   "execution_count": null,
   "metadata": {},
   "outputs": [],
   "source": [
    "from tkinter import *\n",
    "import tkinter as tk\n",
    "from turtle import width\n",
    "from PIL import Image, ImageTk\n",
    "\n",
    "from tkinter import ttk\n",
    "window = Tk()\n",
    "window.title(\"SPAM CHECKER\")\n",
    "window .geometry( '1000x1000')\n",
    "window['bg']=\"#123344\"\n",
    "labelr= Label(window, text=\"ENTER YOUR MESSAGE\", font = ( \"Arial Bold\" , 15 ), fg='yellow',bg='black').place(x=100,y=100)\n",
    "labelr= Label(window, text=\"BEST ANALYZER OF SPAM \", font = ( \"Arial Bold\" , 15 ), fg='black').place(x=570,y=600)\n",
    "label2= Label(window, text=\"Resultat\", font = ( \"Arial Bold\" , 15 ), fg='black',bg='yellow',width=30,height=2).place(x=950,y=250)\n",
    "ZT = tk.Text(window,height=30, width=100,wrap=NONE).place(x=100,y=150)\n",
    "entryName = Entry(window)\n",
    "entryName.place(x=100,y=150,width=700,height=400)\n",
    "\n",
    "\n",
    "\n",
    "window.iconbitmap(r\"C:/Users/yassine\\Desktop/te/spam.ico\")\n",
    "\n",
    "image = Image.open('C:/Users/yassine\\Desktop/te/spa.jpg')\n",
    "resized_image= image.resize((300,130))\n",
    "python_image = ImageTk.PhotoImage(resized_image,master=window)\n",
    "\n",
    "image_label = ttk.Label(window, image=python_image)\n",
    "image_label.pack()\n",
    "\n",
    "def clicku():\n",
    "    v = StringVar()\n",
    "    name = 'HHFHHFHFHHF'\n",
    "  \n",
    "    v.set(name)\n",
    "    lblResult = Label(window , textvariable = v,font = ( \"Arial Bold\" , 15 ), fg='white',bg='black',width=30,height=2).place(x=950,y=400)\n",
    "    # result=ZT.get(1.0, tk.END+\"-1c\")\n",
    "    # print(result)\n",
    "\n",
    "    # lb=Label(window,text=\"spam\",font = ( \"Arial Bold\" , 15 ), fg='yellow',bg='black',width=30,height=2)\n",
    "    \n",
    "    # lb.place(x=950,y=250)\n",
    "    # lb.place(x=950,y=400)\n",
    "bouton = Button(window, text = \"Check message\", bg = \"maroon\" , fg = \"black\", font = ( \"Arial Bold\" , 15 ),width=30,height=2,command=clicku).place(x=950,y=150)\n",
    "window.mainloop()\n"
   ]
  }
 ],
 "metadata": {
  "language_info": {
   "name": "python"
  },
  "orig_nbformat": 4
 },
 "nbformat": 4,
 "nbformat_minor": 2
}
